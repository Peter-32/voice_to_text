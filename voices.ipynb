{
 "cells": [
  {
   "cell_type": "code",
   "execution_count": 4,
   "metadata": {},
   "outputs": [],
   "source": [
    "import pyttsx3\n",
    "engine = pyttsx3.init()\n",
    "voices = engine.getProperty('voices')\n",
    "\n",
    "engine.setProperty('voice', \"com.apple.speech.synthesis.voice.yuna\")\n",
    "engine.say(\"salang haeyo\")\n",
    "engine.runAndWait()\n",
    "engine.stop()"
   ]
  },
  {
   "cell_type": "code",
   "execution_count": null,
   "metadata": {},
   "outputs": [],
   "source": [
    "# <Voice id=com.apple.speech.synthesis.voice.kyoko\n",
    "#           name=Kyoko\n",
    "#           languages=['ja_JP']\n",
    "#           gender=VoiceGenderFemale\n",
    "#           age=35> com.apple.speech.synthesis.voice.kyoko\n",
    "\n",
    "# <Voice id=com.apple.speech.synthesis.voice.lekha\n",
    "#           name=Lekha\n",
    "#           languages=['hi_IN']\n",
    "#           gender=VoiceGenderFemale\n",
    "#           age=35> com.apple.speech.synthesis.voice.lekha\n",
    "\n",
    "\n",
    "# <Voice id=com.apple.speech.synthesis.voice.laura\n",
    "#           name=Laura\n",
    "#           languages=['sk_SK']\n",
    "#           gender=VoiceGenderFemale\n",
    "#           age=35> com.apple.speech.synthesis.voice.laura\n",
    "\n",
    "# <Voice id=com.apple.speech.synthesis.voice.rishi\n",
    "#           name=Rishi\n",
    "#           languages=['en_IN']\n",
    "#           gender=VoiceGenderMale\n",
    "#           age=35> com.apple.speech.synthesis.voice.rishi\n",
    "\n",
    "# <Voice id=com.apple.speech.synthesis.voice.yuna\n",
    "#           name=Yuna\n",
    "#           languages=['ko_KR']\n",
    "#           gender=VoiceGenderFemale\n",
    "#           age=35> com.apple.speech.synthesis.voice.yuna"
   ]
  }
 ],
 "metadata": {
  "kernelspec": {
   "display_name": "commons3",
   "language": "python",
   "name": "commons3"
  },
  "language_info": {
   "codemirror_mode": {
    "name": "ipython",
    "version": 3
   },
   "file_extension": ".py",
   "mimetype": "text/x-python",
   "name": "python",
   "nbconvert_exporter": "python",
   "pygments_lexer": "ipython3",
   "version": "3.8.5"
  }
 },
 "nbformat": 4,
 "nbformat_minor": 4
}
